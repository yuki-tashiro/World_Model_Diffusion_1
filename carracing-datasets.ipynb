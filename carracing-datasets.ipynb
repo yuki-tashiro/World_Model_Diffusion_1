#　datasetsを　https://github.com/ctallec/world-models　を元としたmochiのipynbからダウンロード
import gdown
gdown.download('https://drive.google.com/uc?id=17SWDd-BDKTh7N56k-9l8tSzGg9SsEZMp', 'datasets.zip', quiet=False)
